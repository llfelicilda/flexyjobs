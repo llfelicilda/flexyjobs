{
 "cells": [
  {
   "cell_type": "code",
   "execution_count": 1,
   "id": "310afad9-e672-4438-852d-e1a6b83ff04a",
   "metadata": {},
   "outputs": [],
   "source": [
    "import time\n",
    "\n",
    "import pandas as pd\n",
    "import requests\n",
    "from bs4 import BeautifulSoup\n",
    "from selenium import webdriver\n",
    "from selenium.webdriver.common.keys import Keys\n",
    "from selenium.webdriver.firefox.service import Service"
   ]
  },
  {
   "cell_type": "code",
   "execution_count": 2,
   "id": "ab2d5ef3-4e3c-4b3a-8d0f-7565c8210fbe",
   "metadata": {},
   "outputs": [],
   "source": [
    "# HEADERS = {\n",
    "#     # \"User-Agent\": \"Mozilla/5.0 (Windows NT 10.0; Win64; x64; rv:66.0) Gecko/20100101 Firefox/66.0\",\n",
    "#     \"Accept-Encoding\": \"gzip, deflate\",\n",
    "#     \"Accept\": \"text/html,application/xhtml+xml,application/xml;q=0.9,*/*;q=0.8\",\n",
    "#     \"DNT\": \"1\",\n",
    "#     \"Connection\": \"close\",\n",
    "#     \"Upgrade-Insecure-Requests\": \"1\",\n",
    "# }"
   ]
  },
  {
   "cell_type": "code",
   "execution_count": 5,
   "id": "a9f8774f-ed66-43eb-b546-ea8034acceb6",
   "metadata": {},
   "outputs": [],
   "source": [
    "def get_current_url(url, job_title, location):\n",
    "    serv = Service(\"/Users/felicildaloveme/Downloads/geckodriver\")\n",
    "    driver = webdriver.Firefox(service=serv)\n",
    "    driver.get(url)\n",
    "    time.sleep(3)\n",
    "    driver.find_element(\"xpath\", '//*[@id=\"text-input-what\"]').send_keys(job_title)\n",
    "    time.sleep(3)\n",
    "    driver.find_element(\"xpath\", '//*[@id=\"text-input-where\"]').send_keys(location)\n",
    "    time.sleep(3)\n",
    "    driver.find_element(\"xpath\", \"/html/body/div\").click()\n",
    "    time.sleep(3)\n",
    "    try:\n",
    "        driver.find_element(\"xpath\", '//*[@id=\"jobsearch\"]/button').click()\n",
    "    except:\n",
    "        driver.find_element(\"xpath\", '//*[@id=\"whatWhereFormId\"]/div[3]/button').click()\n",
    "    current_url = driver.current_url\n",
    "\n",
    "    return current_url"
   ]
  },
  {
   "cell_type": "code",
   "execution_count": 6,
   "id": "34a7e176-4425-4a9d-aa8d-ddb8b9add846",
   "metadata": {
    "scrolled": true,
    "tags": []
   },
   "outputs": [
    {
     "name": "stdout",
     "output_type": "stream",
     "text": [
      "https://sg.indeed.com/jobs?q=&l=Singapore%20River&from=searchOnHP\n"
     ]
    }
   ],
   "source": [
    "current_url = get_current_url(\"https://sg.indeed.com/\", \"Part Time\", \"Singapore\")\n",
    "print(current_url)"
   ]
  },
  {
   "cell_type": "code",
   "execution_count": null,
   "id": "3cec9de6-671c-4fbd-b13c-ccd70b33fe1e",
   "metadata": {},
   "outputs": [],
   "source": []
  }
 ],
 "metadata": {
  "kernelspec": {
   "display_name": "flexyjobs",
   "language": "python",
   "name": "flexyjobs"
  },
  "language_info": {
   "codemirror_mode": {
    "name": "ipython",
    "version": 3
   },
   "file_extension": ".py",
   "mimetype": "text/x-python",
   "name": "python",
   "nbconvert_exporter": "python",
   "pygments_lexer": "ipython3",
   "version": "3.9.13"
  }
 },
 "nbformat": 4,
 "nbformat_minor": 5
}
