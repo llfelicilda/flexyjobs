{
 "cells": [
  {
   "cell_type": "code",
   "execution_count": 1,
   "id": "310afad9-e672-4438-852d-e1a6b83ff04a",
   "metadata": {},
   "outputs": [],
   "source": [
    "import time\n",
    "from urllib.request import Request, urlopen\n",
    "\n",
    "import pandas as pd\n",
    "from bs4 import BeautifulSoup"
   ]
  },
  {
   "cell_type": "code",
   "execution_count": 2,
   "id": "850b6f89-ca1d-4d83-9bee-bee3f84d2191",
   "metadata": {},
   "outputs": [],
   "source": [
    "# ### test selenium\n",
    "# from selenium import webdriver\n",
    "# from selenium.webdriver.common.keys import Keys\n",
    "# from selenium.webdriver.firefox.service import Service\n",
    "\n",
    "# def get_current_url(url, job_title, location):\n",
    "#     serv = Service(\"/Users/felicildaloveme/Downloads/geckodriver\")\n",
    "#     driver = webdriver.Firefox(service=serv)\n",
    "#     driver.get(url)\n",
    "#     time.sleep(3)\n",
    "#     driver.find_element(\"xpath\", '//*[@id=\"text-input-what\"]').send_keys(job_title)\n",
    "#     time.sleep(3)\n",
    "#     driver.find_element(\"xpath\", '//*[@id=\"text-input-where\"]').send_keys(location)\n",
    "#     time.sleep(3)\n",
    "#     driver.find_element(\"xpath\", \"/html/body/div\").click()\n",
    "#     time.sleep(3)\n",
    "#     try:\n",
    "#         driver.find_element(\"xpath\", '//*[@id=\"jobsearch\"]/button').click()\n",
    "#     except:\n",
    "#         driver.find_element(\"xpath\", '//*[@id=\"whatWhereFormId\"]/div[3]/button').click()\n",
    "#         pass\n",
    "#     current_url = driver.current_url\n",
    "\n",
    "#     return current_url\n",
    "\n",
    "# current_url = get_current_url(\"https://sg.indeed.com/\", \"Part Time\", \"\")\n",
    "# print(current_url)"
   ]
  },
  {
   "cell_type": "code",
   "execution_count": 3,
   "id": "8527dcb7-4dcd-441b-8721-e673bba0d879",
   "metadata": {},
   "outputs": [],
   "source": [
    "def scrape_job_details(url):\n",
    "\n",
    "    from urllib.request import Request, urlopen\n",
    "\n",
    "    req = Request(\n",
    "        url=\"https://sg.indeed.com/jobs?q=part%20time&l=Singapore&sc=0kf%3Ajt(parttime)%3B&vjk=d854ca2d7279fb3d\",\n",
    "        headers={\"User-Agent\": \"Mozilla/5.0\"},\n",
    "    )\n",
    "    webpage = urlopen(req).read()\n",
    "    content = BeautifulSoup(webpage, \"lxml\")\n",
    "\n",
    "    jobs_list = []\n",
    "    for post in content.select(\".job_seen_beacon\"):\n",
    "        try:\n",
    "            data = {\n",
    "                \"job_title\": post.select(\".jobTitle\")[0].get_text().strip(),\n",
    "                \"company\": post.select(\".companyName\")[0].get_text().strip(),\n",
    "                \"rating\": post.select(\".ratingNumber\")[0].get_text().strip(),\n",
    "                \"location\": post.select(\".companyLocation\")[0].get_text().strip(),\n",
    "                \"date\": post.select(\".date\")[0].get_text().strip(),\n",
    "                \"job_desc\": post.select(\".job-snippet\")[0].get_text().strip(),\n",
    "            }\n",
    "        except IndexError:\n",
    "            continue\n",
    "        jobs_list.append(data)\n",
    "    dataframe = pd.DataFrame(jobs_list)\n",
    "\n",
    "    return dataframe"
   ]
  },
  {
   "cell_type": "code",
   "execution_count": 4,
   "id": "8abc0ea7-8c9d-4573-bcf4-b92bcc201e2f",
   "metadata": {},
   "outputs": [],
   "source": [
    "url = \"https://sg.indeed.com/jobs?q=part%20time&l=Singapore&sc=0kf%3Ajt(parttime)%3B&vjk=d854ca2d7279fb3d\"\n",
    "jobs_df = scrape_job_details(url)"
   ]
  },
  {
   "cell_type": "code",
   "execution_count": 5,
   "id": "00be0104-e7f0-4074-9f73-91674e3176c4",
   "metadata": {},
   "outputs": [
    {
     "data": {
      "text/html": [
       "<div>\n",
       "<style scoped>\n",
       "    .dataframe tbody tr th:only-of-type {\n",
       "        vertical-align: middle;\n",
       "    }\n",
       "\n",
       "    .dataframe tbody tr th {\n",
       "        vertical-align: top;\n",
       "    }\n",
       "\n",
       "    .dataframe thead th {\n",
       "        text-align: right;\n",
       "    }\n",
       "</style>\n",
       "<table border=\"1\" class=\"dataframe\">\n",
       "  <thead>\n",
       "    <tr style=\"text-align: right;\">\n",
       "      <th></th>\n",
       "      <th>job_title</th>\n",
       "      <th>company</th>\n",
       "      <th>rating</th>\n",
       "      <th>location</th>\n",
       "      <th>date</th>\n",
       "      <th>job_desc</th>\n",
       "    </tr>\n",
       "  </thead>\n",
       "  <tbody>\n",
       "    <tr>\n",
       "      <th>0</th>\n",
       "      <td>Part-Time Product Lister (Work From Home)</td>\n",
       "      <td>Watsons Singapore</td>\n",
       "      <td>2.8</td>\n",
       "      <td>Remote in Singapore</td>\n",
       "      <td>PostedPosted 15 days ago</td>\n",
       "      <td>Coordinate well within eCommerce team and cros...</td>\n",
       "    </tr>\n",
       "    <tr>\n",
       "      <th>1</th>\n",
       "      <td>Part time Retail - Cotton On</td>\n",
       "      <td>Cotton On Group</td>\n",
       "      <td>3.6</td>\n",
       "      <td>Singapore</td>\n",
       "      <td>PostedPosted 30+ days ago</td>\n",
       "      <td>Be customer obsessed, go above and beyond to c...</td>\n",
       "    </tr>\n",
       "    <tr>\n",
       "      <th>2</th>\n",
       "      <td>PART TIME OR FULL TIME SERVICE CREW AT MCDONAL...</td>\n",
       "      <td>Mcdonald's Singapore</td>\n",
       "      <td>3.4</td>\n",
       "      <td>Singapore</td>\n",
       "      <td>PostedPosted 16 days ago</td>\n",
       "      <td>Part-time: Up to $8.50/hr.\\nFull-time: $2,250/...</td>\n",
       "    </tr>\n",
       "  </tbody>\n",
       "</table>\n",
       "</div>"
      ],
      "text/plain": [
       "                                           job_title               company  \\\n",
       "0          Part-Time Product Lister (Work From Home)     Watsons Singapore   \n",
       "1                       Part time Retail - Cotton On       Cotton On Group   \n",
       "2  PART TIME OR FULL TIME SERVICE CREW AT MCDONAL...  Mcdonald's Singapore   \n",
       "\n",
       "  rating             location                       date  \\\n",
       "0    2.8  Remote in Singapore   PostedPosted 15 days ago   \n",
       "1    3.6            Singapore  PostedPosted 30+ days ago   \n",
       "2    3.4            Singapore   PostedPosted 16 days ago   \n",
       "\n",
       "                                            job_desc  \n",
       "0  Coordinate well within eCommerce team and cros...  \n",
       "1  Be customer obsessed, go above and beyond to c...  \n",
       "2  Part-time: Up to $8.50/hr.\\nFull-time: $2,250/...  "
      ]
     },
     "execution_count": 5,
     "metadata": {},
     "output_type": "execute_result"
    }
   ],
   "source": [
    "jobs_df.head(3)"
   ]
  },
  {
   "cell_type": "code",
   "execution_count": 6,
   "id": "12819fe4-bd14-4f18-82b2-dbd174ca3a19",
   "metadata": {},
   "outputs": [
    {
     "data": {
      "text/plain": [
       "5"
      ]
     },
     "execution_count": 6,
     "metadata": {},
     "output_type": "execute_result"
    }
   ],
   "source": [
    "len(jobs_df)"
   ]
  },
  {
   "cell_type": "code",
   "execution_count": null,
   "id": "837e7941-5fee-427c-a63c-a9d80d431f71",
   "metadata": {},
   "outputs": [],
   "source": []
  }
 ],
 "metadata": {
  "kernelspec": {
   "display_name": "flexyjobs",
   "language": "python",
   "name": "flexyjobs"
  },
  "language_info": {
   "codemirror_mode": {
    "name": "ipython",
    "version": 3
   },
   "file_extension": ".py",
   "mimetype": "text/x-python",
   "name": "python",
   "nbconvert_exporter": "python",
   "pygments_lexer": "ipython3",
   "version": "3.9.13"
  }
 },
 "nbformat": 4,
 "nbformat_minor": 5
}
